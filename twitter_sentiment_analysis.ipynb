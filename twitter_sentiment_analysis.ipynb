{
  "nbformat": 4,
  "nbformat_minor": 0,
  "metadata": {
    "colab": {
      "provenance": []
    },
    "kernelspec": {
      "name": "python3",
      "display_name": "Python 3"
    },
    "language_info": {
      "name": "python"
    }
  },
  "cells": [
    {
      "cell_type": "code",
      "execution_count": null,
      "metadata": {
        "id": "mY5i6AjET0yF"
      },
      "outputs": [],
      "source": [
        "# 🐦 Twitter Sentiment Analysis Project (Beginner Level)\n",
        "This notebook demonstrates basic sentiment analysis and visualization on a sample dataset.\n",
        "import pandas as pd\n",
        "import matplotlib.pyplot as plt\n",
        "import seaborn as sns\n",
        "from google.colab import files\n",
        "uploaded = files.upload()\n",
        "df = pd.read_csv('twitter_sentiment_data.csv')\n",
        "df.head()\n",
        "sns.countplot(x='Sentiment', data=df)\n",
        "plt.title('Tweet Sentiment Distribution')\n",
        "plt.show()\n"
      ]
    }
  ]
}